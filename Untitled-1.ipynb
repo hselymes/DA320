{
 "cells": [
  {
   "cell_type": "code",
   "execution_count": 21,
   "metadata": {},
   "outputs": [
    {
     "name": "stdout",
     "output_type": "stream",
     "text": [
      "Hello, World!  This program is Python.\n"
     ]
    }
   ],
   "source": [
    "# Variables\n",
    "name = 'World'\n",
    "program = 'Python'\n",
    "\n",
    "# Print text\n",
    "print(f'Hello, {name}!  This program is {program}.')"
   ]
  },
  {
   "cell_type": "code",
   "execution_count": 22,
   "metadata": {},
   "outputs": [
    {
     "name": "stdout",
     "output_type": "stream",
     "text": [
      "Status: 200\n",
      "Fetched 73183 characters from https://www.wikipedia.org.\n"
     ]
    }
   ],
   "source": [
    "import urllib3\n",
    "import certifi\n",
    "\n",
    "link = 'https://www.wikipedia.org'\n",
    "\n",
    "#Construct a python request pool\n",
    "http = urllib3.PoolManager(ca_certs=certifi.where())\n",
    "\n",
    "#Intiiate a web request\n",
    "r = http.request('Get', link)\n",
    "\n",
    "#Convert the result from raw bytes to test\n",
    "datastring = str(r.data, \"utf-8\")\n",
    "\n",
    "#Check whether it succeeded and how much data we got from the site\n",
    "print(f'Status: {r.status}')\n",
    "print(f'Fetched {len(datastring)} characters from {link}.')"
   ]
  },
  {
   "cell_type": "code",
   "execution_count": 23,
   "metadata": {},
   "outputs": [
    {
     "name": "stdout",
     "output_type": "stream",
     "text": [
      "Found 296 bullet points in this wikipedia page.  The first result is <a href=\"//pl.wikipedia.org/\" lang=\"pl\">Polski</a>\n"
     ]
    }
   ],
   "source": [
    "import re\n",
    "\n",
    "# Search bullet points on site page\n",
    "results = re.findall(\"\\<li\\>(.*)\\</li\\>\", datastring)\n",
    "# Print result text\n",
    "print(f\"Found {len(results)} bullet points in this wikipedia page.  The first result is {results[0]}\")"
   ]
  }
 ],
 "metadata": {
  "kernelspec": {
   "display_name": "Python 3.10.8 64-bit",
   "language": "python",
   "name": "python3"
  },
  "language_info": {
   "codemirror_mode": {
    "name": "ipython",
    "version": 3
   },
   "file_extension": ".py",
   "mimetype": "text/x-python",
   "name": "python",
   "nbconvert_exporter": "python",
   "pygments_lexer": "ipython3",
   "version": "3.10.8"
  },
  "orig_nbformat": 4,
  "vscode": {
   "interpreter": {
    "hash": "0b1cd541dce40554fcef1bc164db90e16f02abe413750f3aa4cd39cb144a0ed0"
   }
  }
 },
 "nbformat": 4,
 "nbformat_minor": 2
}

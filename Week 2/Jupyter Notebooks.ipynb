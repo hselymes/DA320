{
 "cells": [
  {
   "cell_type": "code",
   "execution_count": 69,
   "metadata": {},
   "outputs": [
    {
     "name": "stdout",
     "output_type": "stream",
     "text": [
      "Status: 200\n",
      "Fetched 505781 characters from https://www.metacritic.com/browse/movies/score/metascore/year.\n"
     ]
    }
   ],
   "source": [
    "import urllib3\n",
    "import certifi\n",
    "import re\n",
    "import json\n",
    "\n",
    "# Define source link\n",
    "link = 'https://www.metacritic.com/browse/movies/score/metascore/year'\n",
    "\n",
    "# Build a python request pool\n",
    "http = urllib3.PoolManager(cert_reqs = 'CERT_NONE')\n",
    "\n",
    "# Fix SSL cert error \n",
    "# Code by Jamie Kirsila\n",
    "urllib3.disable_warnings()\n",
    "\n",
    "# Intiate a web request\n",
    "res = http.request('GET', link, headers={'User-Agent': 'Mozilla/5.0'})\n",
    "\n",
    "# Convert results from raw bytes to test\n",
    "datastring = str(res.data, \"utf-8\")\n",
    "\n",
    "# Check for success and how much data retrieved from the site\n",
    "print(f'Status: {res.status}')\n",
    "print(f'Fetched {len(datastring)} characters from {link}.')"
   ]
  },
  {
   "cell_type": "code",
   "execution_count": 70,
   "metadata": {},
   "outputs": [
    {
     "name": "stdout",
     "output_type": "stream",
     "text": [
      "Found 100 matches.  The first match is 'Aftersun'.\n"
     ]
    }
   ],
   "source": [
    "# Define title to search movie Title\n",
    "title = r\"class=\\\"title\\\"><h3>(.+)</h3>\"\n",
    "\n",
    "# Find matches within text \n",
    "matches = re.findall(title, datastring)\n",
    "print(f\"Found {len(matches)} matches.  The first match is '{matches[0]}'.\")"
   ]
  },
  {
   "cell_type": "code",
   "execution_count": 71,
   "metadata": {},
   "outputs": [
    {
     "name": "stdout",
     "output_type": "stream",
     "text": [
      "Found 100 matches.  The first match is 'October 21, 2022'.\n"
     ]
    }
   ],
   "source": [
    "# Define regular_expression to search movie Release date\n",
    "releaseDate = r\"class=\\\"clamp-details\\\">\\s+<span>(.+)<\\/span>\"\n",
    "\n",
    "# Find matches within text \n",
    "matches = re.findall(releaseDate, datastring)\n",
    "print(f\"Found {len(matches)} matches.  The first match is '{matches[0]}'.\")"
   ]
  },
  {
   "cell_type": "code",
   "execution_count": 72,
   "metadata": {},
   "outputs": [
    {
     "name": "stdout",
     "output_type": "stream",
     "text": [
      "Found 100 matches.  The first match is 'Sophie reflects on the shared joy and private melancholy of a holiday she took with her father twenty years earlier. Memories real and imagined fill the gaps between miniDV footage as she tries to reconcile the father she knew with the man she didn’t.'.\n"
     ]
    }
   ],
   "source": [
    "# Define description to search movie Description\n",
    "description = r\"<div class=\\\"summary\\\">\\s+(.+)\\s+\"\n",
    "\n",
    "# Find matches within text \n",
    "matches = re.findall(description, datastring)\n",
    "print(f\"Found {len(matches)} matches.  The first match is '{matches[0]}'.\")"
   ]
  },
  {
   "cell_type": "code",
   "execution_count": 73,
   "metadata": {},
   "outputs": [
    {
     "name": "stdout",
     "output_type": "stream",
     "text": [
      "Found 100 matches.  The first match is '('positive', '96')'.\n"
     ]
    }
   ],
   "source": [
    "# Define metascore to search movie Metascore\n",
    "metascore = r\"<div class=\\\"clamp-score-wrap\\\">\\s*.*\\s<div class=\\\"metascore_w large movie (positive|mixed|negative)\\\">(.*)<\\/div>\"\n",
    "\n",
    "# Find matches within text \n",
    "matches = re.findall(metascore, datastring)\n",
    "print(f\"Found {len(matches)} matches.  The first match is '{matches[0]}'.\")"
   ]
  },
  {
   "cell_type": "code",
   "execution_count": 74,
   "metadata": {},
   "outputs": [
    {
     "name": "stdout",
     "output_type": "stream",
     "text": [
      "Found 100 matches.  The first match is 'https://static.metacritic.com/images/products/movies/2/a212d895d29844863024845f7e110530-98.jpg'.\n"
     ]
    }
   ],
   "source": [
    "# Define photoURL to search movie Photo URL\n",
    "# Code by Vincent Hong\n",
    "photoURL = r\"<a href=\\\".*<img\\ssrc=\\\"(https.*)\\\" alt\"\n",
    "\n",
    "# Find matches within text \n",
    "matches = re.findall(photoURL, datastring)\n",
    "print(f\"Found {len(matches)} matches.  The first match is '{matches[0]}'.\")"
   ]
  },
  {
   "cell_type": "code",
   "execution_count": 75,
   "metadata": {},
   "outputs": [
    {
     "ename": "IndexError",
     "evalue": "string index out of range",
     "output_type": "error",
     "traceback": [
      "\u001b[1;31m---------------------------------------------------------------------------\u001b[0m",
      "\u001b[1;31mIndexError\u001b[0m                                Traceback (most recent call last)",
      "Cell \u001b[1;32mIn [75], line 10\u001b[0m\n\u001b[0;32m      5\u001b[0m \u001b[39m# Clear array\u001b[39;00m\n\u001b[0;32m      6\u001b[0m \u001b[39m# movies.clear()\u001b[39;00m\n\u001b[0;32m      8\u001b[0m \u001b[39mfor\u001b[39;00m i \u001b[39min\u001b[39;00m \u001b[39mrange\u001b[39m(\u001b[39m0\u001b[39m,\u001b[39m100\u001b[39m):\n\u001b[0;32m      9\u001b[0m     movies\u001b[39m.\u001b[39mappend((\u001b[39mstr\u001b[39m(i\u001b[39m+\u001b[39m\u001b[39m1\u001b[39m)\u001b[39m+\u001b[39m\n\u001b[1;32m---> 10\u001b[0m     \u001b[39m\"\u001b[39m\u001b[39mTitle: \u001b[39m\u001b[39m\"\u001b[39m\u001b[39m+\u001b[39m\u001b[39mstr\u001b[39m(title[i]))\u001b[39m+\u001b[39m\u001b[39m\"\u001b[39m\u001b[39m\\n\u001b[39;00m\u001b[39m \u001b[39m\u001b[39m\"\u001b[39m \u001b[39m+\u001b[39m\n\u001b[0;32m     11\u001b[0m     \u001b[39m\"\u001b[39m\u001b[39mRelease Date: \u001b[39m\u001b[39m\"\u001b[39m\u001b[39m+\u001b[39m(\u001b[39mstr\u001b[39m(releaseDate[i])) \u001b[39m+\u001b[39m\u001b[39m\"\u001b[39m\u001b[39m\\n\u001b[39;00m\u001b[39m \u001b[39m\u001b[39m\"\u001b[39m\u001b[39m+\u001b[39m\n\u001b[0;32m     12\u001b[0m     \u001b[39m\"\u001b[39m\u001b[39mMetascore: \u001b[39m\u001b[39m\"\u001b[39m \u001b[39m+\u001b[39m(\u001b[39mstr\u001b[39m(metascore[i]))\u001b[39m+\u001b[39m\u001b[39m\"\u001b[39m\u001b[39m\\n\u001b[39;00m\u001b[39m \u001b[39m\u001b[39m\"\u001b[39m\u001b[39m+\u001b[39m\n\u001b[0;32m     13\u001b[0m     \u001b[39m\"\u001b[39m\u001b[39mDescription: \u001b[39m\u001b[39m\"\u001b[39m\u001b[39m+\u001b[39m(\u001b[39mstr\u001b[39m(description[i]))\u001b[39m+\u001b[39m\u001b[39m\"\u001b[39m\u001b[39m \u001b[39m\u001b[39m\\n\u001b[39;00m\u001b[39m\"\u001b[39m)\n\u001b[0;32m     15\u001b[0m \u001b[39mfor\u001b[39;00m i \u001b[39min\u001b[39;00m \u001b[39mrange\u001b[39m(\u001b[39m0\u001b[39m,\u001b[39m100\u001b[39m):\n\u001b[0;32m     16\u001b[0m         \u001b[39mprint\u001b[39m(\u001b[39mstr\u001b[39m(movies[i])\u001b[39m+\u001b[39m\u001b[39m'\u001b[39m\u001b[39m\\n\u001b[39;00m\u001b[39m'\u001b[39m)\n",
      "\u001b[1;31mIndexError\u001b[0m: string index out of range"
     ]
    }
   ],
   "source": [
    "# Create an array to store movie info\n",
    "# Code by Jamie Kirsila\n",
    "movies=[]\n",
    "\n",
    "# Clear array\n",
    "# movies.clear()\n",
    "\n",
    "for i in range(0,100):\n",
    "    movies.append((str(i+1)+\n",
    "    \"Title: \"+str(title[i]))+\"\\n \" +\n",
    "    \"Release Date: \"+(str(releaseDate[i])) +\"\\n \"+\n",
    "    \"Metascore: \" +(str(metascore[i]))+\"\\n \"+\n",
    "    \"Description: \"+(str(description[i]))+\" \\n\")\n",
    "\n",
    "for i in range(0,100):\n",
    "        print(str(movies[i])+'\\n')\n"
   ]
  }
 ],
 "metadata": {
  "kernelspec": {
   "display_name": "Python 3.10.8 64-bit",
   "language": "python",
   "name": "python3"
  },
  "language_info": {
   "codemirror_mode": {
    "name": "ipython",
    "version": 3
   },
   "file_extension": ".py",
   "mimetype": "text/x-python",
   "name": "python",
   "nbconvert_exporter": "python",
   "pygments_lexer": "ipython3",
   "version": "3.10.8"
  },
  "orig_nbformat": 4,
  "vscode": {
   "interpreter": {
    "hash": "0b1cd541dce40554fcef1bc164db90e16f02abe413750f3aa4cd39cb144a0ed0"
   }
  }
 },
 "nbformat": 4,
 "nbformat_minor": 2
}

{
 "cells": [
  {
   "cell_type": "code",
   "execution_count": 16,
   "metadata": {},
   "outputs": [
    {
     "name": "stdout",
     "output_type": "stream",
     "text": [
      "Status: 200\n",
      "Fetched 73183 characters from https://www.metacritic.com/browse/movies/score/metascore/year.\n"
     ]
    },
    {
     "ename": "NameError",
     "evalue": "name 'title' is not defined",
     "output_type": "error",
     "traceback": [
      "\u001b[1;31m---------------------------------------------------------------------------\u001b[0m",
      "\u001b[1;31mNameError\u001b[0m                                 Traceback (most recent call last)",
      "Cell \u001b[1;32mIn [16], line 37\u001b[0m\n\u001b[0;32m     34\u001b[0m movies\u001b[39m=\u001b[39m[]\n\u001b[0;32m     36\u001b[0m \u001b[39mfor\u001b[39;00m i \u001b[39min\u001b[39;00m \u001b[39mrange\u001b[39m(\u001b[39m0\u001b[39m,\u001b[39m50\u001b[39m):\n\u001b[1;32m---> 37\u001b[0m     movies\u001b[39m.\u001b[39mappend((\u001b[39mstr\u001b[39m(i\u001b[39m+\u001b[39m\u001b[39m1\u001b[39m)\u001b[39m+\u001b[39m\u001b[39m\"\u001b[39m\u001b[39mTitle: \u001b[39m\u001b[39m\"\u001b[39m\u001b[39m+\u001b[39m\u001b[39mstr\u001b[39m(title[i]))\u001b[39m+\u001b[39m\u001b[39m\"\u001b[39m\u001b[39m\\n\u001b[39;00m\u001b[39m\"\u001b[39m \u001b[39m+\u001b[39m\n\u001b[0;32m     38\u001b[0m     \u001b[39m\"\u001b[39m\u001b[39mRelease Date: \u001b[39m\u001b[39m\"\u001b[39m\u001b[39m+\u001b[39m(\u001b[39mstr\u001b[39m(date[i])) \u001b[39m+\u001b[39m\u001b[39m\"\u001b[39m\u001b[39m\\n\u001b[39;00m\u001b[39m \u001b[39m\u001b[39m\"\u001b[39m\u001b[39m+\u001b[39m\n\u001b[0;32m     39\u001b[0m     \u001b[39m\"\u001b[39m\u001b[39mMetascore: \u001b[39m\u001b[39m\"\u001b[39m \u001b[39m+\u001b[39m(\u001b[39mstr\u001b[39m(metascore[i]))\u001b[39m+\u001b[39m\u001b[39m\"\u001b[39m\u001b[39m\\n\u001b[39;00m\u001b[39m \u001b[39m\u001b[39m\"\u001b[39m\u001b[39m+\u001b[39m\n\u001b[0;32m     40\u001b[0m     \u001b[39m\"\u001b[39m\u001b[39mDescription: \u001b[39m\u001b[39m\"\u001b[39m\u001b[39m+\u001b[39m(\u001b[39mstr\u001b[39m(description[i]))\u001b[39m+\u001b[39m\u001b[39m\"\u001b[39m\u001b[39m \u001b[39m\u001b[39m\\n\u001b[39;00m\u001b[39m\"\u001b[39m)\n\u001b[0;32m     42\u001b[0m \u001b[39mfor\u001b[39;00m i \u001b[39min\u001b[39;00m \u001b[39mrange\u001b[39m(\u001b[39m0\u001b[39m,\u001b[39m50\u001b[39m):\n\u001b[0;32m     43\u001b[0m         \u001b[39mprint\u001b[39m(\u001b[39mstr\u001b[39m(movies[i])\u001b[39m+\u001b[39m\u001b[39m'\u001b[39m\u001b[39m\\n\u001b[39;00m\u001b[39m'\u001b[39m)\n",
      "\u001b[1;31mNameError\u001b[0m: name 'title' is not defined"
     ]
    }
   ],
   "source": [
    "# a) For Title    class=\"title\"><h3>(.+)</h3>\n",
    "\n",
    "# b) Release date <div class=\"clamp-details\"><span>(.+)</span>\n",
    "\n",
    "# c) Description  <div class=\"summary\">\\s+(.+)\\s+\n",
    "\n",
    "# d)  Metascore <div class=\"clamp-score-wrap\">.+<div class=\"metascore_w large movie positive\">(\\d+)</div>\n",
    "\n",
    "# e)  photo URL <td class=\"clamp-image-wrap\">.+<img src=\"(.+)\"\n",
    "\n",
    "import urllib3\n",
    "import certifi\n",
    "import re\n",
    "import json\n",
    "\n",
    "# Define source link\n",
    "link = 'https://www.metacritic.com/browse/movies/score/metascore/year'\n",
    "\n",
    "# Build a python request pool\n",
    "http = urllib3.PoolManager(cert_reqs = 'CERT_NONE')\n",
    "# Fix SSL cert error\n",
    "# Code by Jamie Kirsila\n",
    "urllib3.disable_warnings()\n",
    "# Intiate a web request\n",
    "res = http.request('GET', link, headers={'User-Agent': 'Mozilla/5.0'})\n",
    "\n",
    "# Convert results from raw bytes to test\n",
    "datastring = str(r.data, \"utf-8\")\n",
    "\n",
    "# Definitions for array\n",
    "\n",
    "\n",
    "# Create an array to store movie info\n",
    "# Code by Jamie Kirsila\n",
    "movies=[]\n",
    "\n",
    "for i in range(0,50):\n",
    "    movies.append((str(i+1)+\"Title: \"+str(title[i]))+\"\\n\" +\n",
    "    \"Release Date: \"+(str(date[i])) +\"\\n \"+\n",
    "    \"Metascore: \" +(str(metascore[i]))+\"\\n \"+\n",
    "    \"Description: \"+(str(description[i]))+\" \\n\")\n",
    "\n",
    "for i in range(0,50):\n",
    "        print(str(movies[i])+'\\n')\n"
   ]
  }
 ],
 "metadata": {
  "kernelspec": {
   "display_name": "Python 3.10.8 64-bit",
   "language": "python",
   "name": "python3"
  },
  "language_info": {
   "codemirror_mode": {
    "name": "ipython",
    "version": 3
   },
   "file_extension": ".py",
   "mimetype": "text/x-python",
   "name": "python",
   "nbconvert_exporter": "python",
   "pygments_lexer": "ipython3",
   "version": "3.10.8"
  },
  "orig_nbformat": 4,
  "vscode": {
   "interpreter": {
    "hash": "0b1cd541dce40554fcef1bc164db90e16f02abe413750f3aa4cd39cb144a0ed0"
   }
  }
 },
 "nbformat": 4,
 "nbformat_minor": 2
}

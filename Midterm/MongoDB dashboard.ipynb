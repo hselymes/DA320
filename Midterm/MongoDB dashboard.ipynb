{
 "cells": [
  {
   "cell_type": "markdown",
   "metadata": {},
   "source": [
    "# MongoDB Dashboard for Metacritic movie data\n",
    "# DA 230 Midterm\n",
    "# Author: Heather Marie\n",
    "# Contributers: Ted Spence"
   ]
  },
  {
   "cell_type": "code",
   "execution_count": 3,
   "metadata": {},
   "outputs": [
    {
     "name": "stdout",
     "output_type": "stream",
     "text": [
      "My secret key is 67 characters in length.\n",
      "Using MongoDB version 5.0.13.\n",
      "This database has the collections ['Metacritic', 'MetacriticFresh', 'IMDB', 'IMDB_Pipeline_View']\n"
     ]
    }
   ],
   "source": [
    "# Retrieve collection from MongoDB\n",
    "\n",
    "# Import modules\n",
    "import json\n",
    "import pymongo\n",
    "import certifi\n",
    "import pandas\n",
    "\n",
    "# Retrieve credentials for SQL Server from credentials file\n",
    "# Loading the json file that containins my secret MongoDB connection string\n",
    "with open (r'C:\\Users\\hsely\\OneDrive\\Documents\\GitHub\\DA320\\Midterm\\credentials.json') as u:\n",
    "    data = json.load(u)\n",
    "\n",
    "secret_key = data['mongodb']\n",
    "\n",
    "# We can safely print the length of the secret key. That won't leak any sensitive information.\n",
    "print(f\"My secret key is {len(secret_key)} characters in length.\")\n",
    "\n",
    "# Connecting to database using known good certificates\n",
    "client = pymongo.MongoClient(secret_key, tlsCAFile=certifi.where())\n",
    "\n",
    "# Fetching my database titled \"DA320\"\n",
    "da320_database = client.DA320\n",
    "metacritic_data = da320_database.MetacriticNew\n",
    "\n",
    "# Accessing my collections from my \"DA320\" database\n",
    "allCollections = da320_database.list_collection_names()\n",
    "\n",
    "# Print statements that display the current version as well as the collections present in DA320\n",
    "print(f\"Using MongoDB version {client.server_info()['version']}.\")\n",
    "print(f\"This database has the collections {allCollections}\")"
   ]
  }
 ],
 "metadata": {
  "kernelspec": {
   "display_name": "Python 3.10.8 64-bit",
   "language": "python",
   "name": "python3"
  },
  "language_info": {
   "codemirror_mode": {
    "name": "ipython",
    "version": 3
   },
   "file_extension": ".py",
   "mimetype": "text/x-python",
   "name": "python",
   "nbconvert_exporter": "python",
   "pygments_lexer": "ipython3",
   "version": "3.10.8"
  },
  "orig_nbformat": 4,
  "vscode": {
   "interpreter": {
    "hash": "0b1cd541dce40554fcef1bc164db90e16f02abe413750f3aa4cd39cb144a0ed0"
   }
  }
 },
 "nbformat": 4,
 "nbformat_minor": 2
}

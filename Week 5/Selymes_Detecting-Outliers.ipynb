{
 "cells": [
  {
   "cell_type": "code",
   "execution_count": null,
   "metadata": {},
   "outputs": [],
   "source": [
    "# Sources: Vincent Hong, Natalia Sadkov, Statistica.com, Wikipedia.com, and example code provided by Professor Spence\n"
   ]
  },
  {
   "cell_type": "code",
   "execution_count": null,
   "metadata": {},
   "outputs": [],
   "source": [
    "# Import modules\n",
    "import json\n",
    "import pymongo\n",
    "import certifi\n",
    "import pandas as pd\n",
    "from matplotlib import pyplot\n",
    "import numpy as  np\n",
    "\n",
    "# Loading the json file that containins my secret MongoDB connection string\n",
    "with open ('/Users/hong.vince/Desktop/DA320/credentials.json') as u:\n",
    "    data = json.load(u)\n",
    "\n",
    "    secret_key = data['my-secret-key']"
   ]
  },
  {
   "cell_type": "code",
   "execution_count": null,
   "metadata": {},
   "outputs": [],
   "source": [
    "# Connecting to the database using known good certificates\n",
    "client = pymongo.MongoClient(secret_key, tlsCAFile=certifi.where())\n",
    "\n",
    "# Fetching my database titled \"DA320\"\n",
    "da320_database = client['DA320']\n",
    "\n",
    "# Accessing my collections from my \"DA320\" database\n",
    "allCollections = da320_database.list_collection_names()\n",
    "\n",
    "# Print statements that display the current version as well as the collections present in DA320\n",
    "print(f\"Using MongoDB version {client.server_info()['version']}.\")\n",
    "print(f\"This database has the collections {allCollections}\")"
   ]
  },
  {
   "cell_type": "code",
   "execution_count": null,
   "metadata": {},
   "outputs": [],
   "source": [
    "# Retrieving all records from the \"IMDB\" collection\n",
    "cursor = da320_database[\"IMDB\"].find()\n",
    "\n",
    "# Converting the information into a Pandas dataframe\n",
    "imdb = pd.DataFrame(cursor)\n",
    "\n",
    "# Displaying the first few records \n",
    "imdb.head()"
   ]
  },
  {
   "cell_type": "code",
   "execution_count": null,
   "metadata": {},
   "outputs": [],
   "source": [
    "# Transforming the Release Date column to a datetime data type\n",
    "imdb['release_date'] = pd.to_datetime(imdb['release_date'], errors='coerce')\n",
    "\n",
    "# Transforming the Budget column to a numeric data type\n",
    "imdb['budget'] = pd.to_numeric(imdb['budget'], errors='coerce')\n",
    "\n",
    "# Transforming the Budget column to a numeric data type\n",
    "imdb['runtime'] = pd.to_numeric(imdb['runtime'], errors='coerce')\n",
    "\n",
    "imdb.head()\n"
   ]
  },
  {
   "cell_type": "code",
   "execution_count": null,
   "metadata": {},
   "outputs": [],
   "source": [
    "# Plotting Release Date Against Budget in a Scatter Plot\n",
    "pyplot.title('IMDB: Budget Against Release Date')\n",
    "pyplot.xlabel('Release Date')\n",
    "pyplot.ylabel('Budget')\n",
    "pyplot.scatter(release_date, budget)\n",
    "pyplot.gca().yaxis.set_major_formatter(format_currency)\n",
    "pyplot.ylim(0,)\n",
    "\n",
    "pyplot.show()"
   ]
  },
  {
   "cell_type": "code",
   "execution_count": null,
   "metadata": {},
   "outputs": [],
   "source": [
    "# Detecting the Top Outliers for Budget\n",
    "imdb.sort_values(\"budget\", ascending = False).head()"
   ]
  },
  {
   "cell_type": "code",
   "execution_count": null,
   "metadata": {},
   "outputs": [],
   "source": [
    "# Plotting Release Date Against Runtime in a Scatter Plot\n",
    "pyplot.title('IMDB: Runtime Against Release Date')\n",
    "pyplot.xlabel('Release Date')\n",
    "pyplot.ylabel('Runtime (Minutes)')\n",
    "pyplot.scatter(release_date, runtime)\n",
    "\n",
    "pyplot.show()"
   ]
  },
  {
   "cell_type": "code",
   "execution_count": null,
   "metadata": {},
   "outputs": [],
   "source": [
    "# Detecting the Top Outliers for Runtime\n",
    "imdb.sort_values(\"runtime\", ascending = False).head()"
   ]
  }
 ],
 "metadata": {
  "kernelspec": {
   "display_name": "Python 3.10.8 64-bit",
   "language": "python",
   "name": "python3"
  },
  "language_info": {
   "codemirror_mode": {
    "name": "ipython",
    "version": 3
   },
   "file_extension": ".py",
   "mimetype": "text/x-python",
   "name": "python",
   "nbconvert_exporter": "python",
   "pygments_lexer": "ipython3",
   "version": "3.10.8"
  },
  "orig_nbformat": 4,
  "vscode": {
   "interpreter": {
    "hash": "0b1cd541dce40554fcef1bc164db90e16f02abe413750f3aa4cd39cb144a0ed0"
   }
  }
 },
 "nbformat": 4,
 "nbformat_minor": 2
}
